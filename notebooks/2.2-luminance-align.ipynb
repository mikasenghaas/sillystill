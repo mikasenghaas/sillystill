{
 "cells": [
  {
   "cell_type": "markdown",
   "metadata": {},
   "source": [
    "# 🌗 Dynamic Range Alignment\n",
    "\n",
    "This notebook implements dynamic range alignment for each pair of digital and film images. The goal is to line up the grey-levels/luminance of each pair of images so that the model does not to learn to adjust for luminance levels.\n"
   ]
  },
  {
   "cell_type": "markdown",
   "metadata": {},
   "source": [
    "## Setup\n",
    "\n",
    "---\n",
    "\n",
    "Let's install some necessary dependencies and set global variables."
   ]
  },
  {
   "cell_type": "code",
   "execution_count": null,
   "metadata": {},
   "outputs": [],
   "source": [
    "import autorootcwd"
   ]
  },
  {
   "cell_type": "code",
   "execution_count": null,
   "metadata": {},
   "outputs": [],
   "source": [
    "import cv2 as cv\n",
    "import numpy as np\n",
    "from matplotlib import pyplot as plt\n",
    "from skimage.exposure import cumulative_distribution"
   ]
  },
  {
   "cell_type": "code",
   "execution_count": null,
   "metadata": {},
   "outputs": [],
   "source": [
    "from typing import List, Tuple"
   ]
  },
  {
   "cell_type": "markdown",
   "metadata": {},
   "source": [
    "## Luminance Alignment (Dummy Images)\n",
    "\n",
    "---\n",
    "\n",
    "An explanation of how histogram matching is done for images can be found on [this page by Paul Bourke](https://paulbourke.net/miscellaneous/equalisation/)\n",
    "\n",
    "Implemented based on code on [this StackOverflow post](https://stackoverflow.com/questions/32655686/histogram-matching-of-two-images-in-python-2-x_)\n",
    "and [SciKit image tutorials](https://scikit-image.org/docs/stable/auto_examples/color_exposure/plot_histogram_matching.html)"
   ]
  },
  {
   "cell_type": "code",
   "execution_count": null,
   "metadata": {},
   "outputs": [],
   "source": [
    "# Load image example\n",
    "template = cv.imread(\"imgs/cinestill-800t.jpg\")\n",
    "template = cv.cvtColor(template, cv.COLOR_BGR2RGB)  # from BGR to RGB\n",
    "\n",
    "# Apply some basic transformations (less luminance)\n",
    "source = template // 2\n",
    "\n",
    "# Display images\n",
    "fig, axs = plt.subplots(ncols=2, figsize=(15, 10))\n",
    "axs[0].imshow(template)\n",
    "axs[1].imshow(source)\n",
    "axs[0].set_title(\"Template\")\n",
    "axs[1].set_title(\"Source\");"
   ]
  },
  {
   "cell_type": "markdown",
   "metadata": {},
   "source": [
    "Nice, we have two images - a source image and a template image that we want to match. Let's plot the histograms of both images to see the changes in luminance."
   ]
  },
  {
   "cell_type": "code",
   "execution_count": null,
   "metadata": {},
   "outputs": [],
   "source": [
    "def cdf(channel: np.ndarray):\n",
    "    \"\"\"\n",
    "    Computes the CDF of an image\n",
    "\n",
    "    Args:\n",
    "        channel (np.ndarray): An image channel\n",
    "\n",
    "    Returns:\n",
    "        np.ndarray: The CDF of the image channel\n",
    "    \"\"\"\n",
    "    # Compute the CDF and the bin centres\n",
    "    cdf, b = cumulative_distribution(channel)\n",
    "\n",
    "    # Pad the CDF to have values between 0 and 1\n",
    "    cdf = np.insert(cdf, 0, [0] * b[0])\n",
    "    cdf = np.append(cdf, [1] * (255 - b[-1]))\n",
    "\n",
    "    return cdf"
   ]
  },
  {
   "cell_type": "code",
   "execution_count": null,
   "metadata": {},
   "outputs": [],
   "source": [
    "# Histograms of RGB channels\n",
    "fig, axs = plt.subplots(ncols=2, figsize=(15, 5))\n",
    "fig.suptitle(\"CDF of RGB channels\")\n",
    "for i, channel in enumerate(\"RGB\"):\n",
    "    axs[0].plot(cdf(template[:, :, i]), label=f\"Channel {channel}\")\n",
    "    axs[1].plot(cdf(source[:, :, i]), label=f\"Channel {channel}\")\n",
    "axs[0].set_title(\"Template\")\n",
    "axs[1].set_title(\"Source\")\n",
    "axs[0].legend()\n",
    "axs[1].legend();"
   ]
  },
  {
   "cell_type": "code",
   "execution_count": null,
   "metadata": {},
   "outputs": [],
   "source": [
    "# Histograms of LAB channels\n",
    "template_lab = cv.cvtColor(template, cv.COLOR_RGB2LAB)\n",
    "source_lab = cv.cvtColor(source, cv.COLOR_RGB2LAB)\n",
    "\n",
    "fig, axs = plt.subplots(ncols=2, figsize=(15, 5))\n",
    "fig.suptitle(\"CDF of LAB channels\")\n",
    "for i, channel in enumerate(\"LAB\"):\n",
    "    axs[0].plot(cdf(template_lab[:, :, i]), label=f\"Channel {channel}\")\n",
    "    axs[1].plot(cdf(source_lab[:, :, i]), label=f\"Channel {channel}\")\n",
    "axs[0].set_title(\"Template\")\n",
    "axs[1].set_title(\"Source\")\n",
    "axs[0].legend()\n",
    "axs[1].legend();"
   ]
  },
  {
   "cell_type": "markdown",
   "metadata": {},
   "source": [
    "Nice, we clearly see that the source image is darker as it's CDF is shifted to the left. Now, let's implement the histogram matching algorithm."
   ]
  },
  {
   "cell_type": "code",
   "execution_count": null,
   "metadata": {},
   "outputs": [],
   "source": [
    "def histogram_matching(\n",
    "    template_cdf: np.ndarray, source_cdf: np.ndarray, channel: np.ndarray\n",
    ") -> np.ndarray:\n",
    "    \"\"\"\n",
    "    Matches the histogram of a channel to the histogram of another channel.\n",
    "\n",
    "    Args:\n",
    "        template_cdf (np.ndarray): The CDF of the template image\n",
    "        source_cdf (np.ndarray): The CDF of the source image\n",
    "        channel (np.ndarray): The channel to match (of source image)\n",
    "\n",
    "    Returns:\n",
    "        np.ndarray: The channel with the matched histogram\n",
    "    \"\"\"\n",
    "    pixels = np.arange(256)\n",
    "    # find closest pixel-matches corresponding to the CDF of the input image, given the value of the CDF H of\n",
    "    # the template image at the corresponding pixels, s.t. c_t = H(pixels) <=> pixels = H-1(c_t)\n",
    "    new_pixels = np.interp(source_cdf, template_cdf, pixels)\n",
    "    new_channel = (np.reshape(new_pixels[channel.ravel()], channel.shape)).astype(np.uint8)\n",
    "\n",
    "    return new_channel"
   ]
  },
  {
   "cell_type": "code",
   "execution_count": null,
   "metadata": {},
   "outputs": [],
   "source": [
    "# Perform histogram matching\n",
    "source_cdf = cdf(source_lab[:, :, 0])\n",
    "template_cdf = cdf(template_lab[:, :, 0])\n",
    "\n",
    "# Match the histograms\n",
    "matched_source_l = histogram_matching(template_cdf, source_cdf, source[:, :, 0])\n",
    "\n",
    "# Display the results\n",
    "fig, axs = plt.subplots(ncols=2, figsize=(15, 5))\n",
    "fig.suptitle(\"Histogram matching\")\n",
    "axs[0].plot(source_cdf, label=\"Source L-CDF\")\n",
    "axs[0].plot(template_cdf, label=\"Template L-CDF\")\n",
    "axs[1].plot(cdf(matched_source_l), label=\"Matched L-CDF\")\n",
    "axs[1].plot(template_cdf, label=\"Source L-CDF\")\n",
    "axs[0].legend()\n",
    "axs[1].legend();"
   ]
  },
  {
   "cell_type": "markdown",
   "metadata": {},
   "source": [
    "Nice, the histogram matching seems to work well. Let's now apply the matched histogram to the LAB image."
   ]
  },
  {
   "cell_type": "code",
   "execution_count": null,
   "metadata": {},
   "outputs": [],
   "source": [
    "def luminance_align(template: np.ndarray, source: np.ndarray) -> Tuple[np.ndarray, np.ndarray]:\n",
    "    \"\"\"\n",
    "    Matches the luminance of the source image to the template image.\n",
    "\n",
    "    Args:\n",
    "        template (np.ndarray): The template image (RGB)\n",
    "        source (np.ndarray): The source image (RGB)\n",
    "\n",
    "    Returns:\n",
    "        Tuple[np.ndarray, np.ndarray]: The source and template images\n",
    "                                    with matched luminance\n",
    "    \"\"\"\n",
    "    # Convert images from RGB to LAB\n",
    "    source_lab = cv.cvtColor(source, cv.COLOR_RGB2LAB)\n",
    "    template_lab = cv.cvtColor(template, cv.COLOR_RGB2LAB)\n",
    "\n",
    "    # Split the image channels\n",
    "    source_l, source_a, source_b = cv.split(source_lab)\n",
    "    template_l, _, _ = cv.split(template_lab)\n",
    "\n",
    "    # Compute the CDF of the images\n",
    "    source_cdf = cdf(source_l)\n",
    "    template_cdf = cdf(template_l)\n",
    "\n",
    "    # Match the histograms\n",
    "    matched_source_l = histogram_matching(template_cdf, source_cdf, source_l)\n",
    "\n",
    "    # Merge the new L channel with the original A and B channels\n",
    "    source_lab = cv.merge((matched_source_l, source_a, source_b))\n",
    "\n",
    "    # Convert back to RBG and then return result\n",
    "    source = cv.cvtColor(source_lab, cv.COLOR_LAB2RGB)\n",
    "    template = cv.cvtColor(template_lab, cv.COLOR_LAB2RGB)\n",
    "\n",
    "    return template, source"
   ]
  },
  {
   "cell_type": "code",
   "execution_count": null,
   "metadata": {},
   "outputs": [],
   "source": [
    "# Display images\n",
    "fig, axs = plt.subplots(nrows=2, ncols=2, figsize=(15, 10))\n",
    "axs[0, 0].imshow(template)\n",
    "axs[0, 1].imshow(source)\n",
    "axs[0, 0].set_title(\"Original Template\")\n",
    "axs[0, 1].set_title(\"Original Source\")\n",
    "\n",
    "# Match the luminance\n",
    "matched_template, matched_source = luminance_align(template, source)\n",
    "axs[1, 0].imshow(matched_template)\n",
    "axs[1, 1].imshow(matched_source)\n",
    "axs[1, 0].set_title(\"Matched Template\")\n",
    "axs[1, 1].set_title(\"Matched Source\");"
   ]
  },
  {
   "cell_type": "markdown",
   "metadata": {},
   "source": [
    "## Luminance Alignment (Actual Data)\n",
    "\n",
    "---"
   ]
  },
  {
   "cell_type": "markdown",
   "metadata": {},
   "source": [
    "### Example Image"
   ]
  },
  {
   "cell_type": "code",
   "execution_count": null,
   "metadata": {},
   "outputs": [],
   "source": [
    "from src.utils.load import load_image_pair\n",
    "\n",
    "# Load example image\n",
    "film, digital, meta = load_image_pair(13, processing_state=\"raw\", as_array=True)\n",
    "\n",
    "print(f\"Digital: {digital.shape}, Film: {film.shape}\")\n",
    "_, axs = plt.subplots(ncols=2, figsize=(15, 10))\n",
    "axs[0].imshow(digital)\n",
    "axs[0].set_title(\"Digital\")\n",
    "axs[1].imshow(film)\n",
    "axs[1].set_title(\"Film\");"
   ]
  },
  {
   "cell_type": "code",
   "execution_count": null,
   "metadata": {},
   "outputs": [],
   "source": [
    "# Display images\n",
    "from src.utils.preprocess import luminance_align\n",
    "\n",
    "fig, axs = plt.subplots(nrows=2, ncols=2, figsize=(15, 10))\n",
    "axs[0, 0].imshow(digital)\n",
    "axs[0, 1].imshow(film)\n",
    "axs[0, 0].set_title(\"Digital (Template)\")\n",
    "axs[0, 1].set_title(\"Film (Source)\")\n",
    "\n",
    "# Match the luminance\n",
    "matched_digital, matched_film = luminance_align(digital, film)\n",
    "axs[1, 0].imshow(matched_digital)\n",
    "axs[1, 1].imshow(matched_film)\n",
    "axs[1, 0].set_title(\"Matched Digital (Template)\")\n",
    "axs[1, 1].set_title(\"Matched Film (Source)\");"
   ]
  },
  {
   "cell_type": "markdown",
   "metadata": {},
   "source": [
    "### All Data"
   ]
  },
  {
   "cell_type": "code",
   "execution_count": null,
   "metadata": {},
   "outputs": [],
   "source": [
    "from src.utils.load import load_metadata\n",
    "\n",
    "# Load metadata\n",
    "meta = load_metadata()\n",
    "\n",
    "# Get all image indices\n",
    "image_indices = list(meta.keys())\n",
    "\n",
    "print(f\"There are {len(meta)} images in the dataset\")"
   ]
  },
  {
   "cell_type": "code",
   "execution_count": null,
   "metadata": {},
   "outputs": [],
   "source": [
    "# Align luminance of all images\n",
    "for i, idx in enumerate(image_indices):\n",
    "    # Load image pair (digital and film)\n",
    "    film, digital, _ = load_image_pair(idx, processing_state=\"raw\", as_array=True)\n",
    "\n",
    "    # Initialise figure\n",
    "    fig, axs = plt.subplots(ncols=2, figsize=(15, 5))\n",
    "    fig.suptitle(f\"Image Pair {idx}\", fontsize=16)\n",
    "\n",
    "    # Align images\n",
    "    digital, film = luminance_align(template=digital, source=film)\n",
    "    axs[0].imshow(digital)\n",
    "    axs[1].imshow(film)\n",
    "    axs[0].set_title(\"Matched Digital Image\")\n",
    "    axs[1].set_title(\"Matched Film Image\")\n",
    "\n",
    "    plt.show()"
   ]
  },
  {
   "cell_type": "code",
   "execution_count": null,
   "metadata": {},
   "outputs": [],
   "source": [
    "# Align luminance of all images\n",
    "for i, idx in enumerate(image_indices):\n",
    "    # Load image pair (digital and film)\n",
    "    film, digital, _ = load_image_pair(idx, processing_state=\"raw\", as_array=True)\n",
    "\n",
    "    # Initialise figure\n",
    "    fig, axs = plt.subplots(ncols=2, figsize=(15, 5))\n",
    "    fig.suptitle(f\"Image Pair {idx}\", fontsize=16)\n",
    "\n",
    "    # Align images\n",
    "    film, digital = luminance_align(template=film, source=digital)\n",
    "    axs[0].imshow(digital)\n",
    "    axs[1].imshow(film)\n",
    "    axs[0].set_title(\"Matched Digital Image\")\n",
    "    axs[1].set_title(\"Matched Film Image\")\n",
    "\n",
    "    plt.show()"
   ]
  }
 ],
 "metadata": {
  "kernelspec": {
   "display_name": "Python 3",
   "language": "python",
   "name": "python3"
  },
  "language_info": {
   "codemirror_mode": {
    "name": "ipython",
    "version": 3
   },
   "file_extension": ".py",
   "mimetype": "text/x-python",
   "name": "python",
   "nbconvert_exporter": "python",
   "pygments_lexer": "ipython3",
   "version": "3.9.16"
  }
 },
 "nbformat": 4,
 "nbformat_minor": 2
}
