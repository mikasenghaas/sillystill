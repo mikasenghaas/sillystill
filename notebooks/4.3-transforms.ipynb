{
 "cells": [
  {
   "cell_type": "markdown",
   "metadata": {},
   "source": [
    "# ⚡ Transforms\n",
    "\n",
    "This notebook shows how to use the transforms in this project."
   ]
  },
  {
   "cell_type": "markdown",
   "metadata": {},
   "source": [
    "## Setup\n",
    "\n",
    "---\n",
    "\n",
    "Let's install some necessary dependencies and set global variables."
   ]
  },
  {
   "cell_type": "code",
   "execution_count": null,
   "metadata": {},
   "outputs": [],
   "source": [
    "%reload_ext autoreload\n",
    "%autoreload 2"
   ]
  },
  {
   "cell_type": "code",
   "execution_count": null,
   "metadata": {},
   "outputs": [],
   "source": [
    "# Autoroot\n",
    "import autorootcwd"
   ]
  },
  {
   "cell_type": "code",
   "execution_count": null,
   "metadata": {},
   "outputs": [],
   "source": [
    "# Imports\n",
    "import os\n",
    "import torch\n",
    "import numpy as np\n",
    "from matplotlib import pyplot as plt\n",
    "from torchvision.transforms.v2.functional import to_pil_image\n",
    "\n",
    "from src.data.components import PairedDataset\n",
    "from src.models.transforms import ToModelInput, FromModelInput, Augment, tensor_to_plot, pil_to_plot"
   ]
  },
  {
   "cell_type": "code",
   "execution_count": null,
   "metadata": {},
   "outputs": [],
   "source": [
    "# Instantiate dataset\n",
    "film_paired_dir = os.path.join(\"data\", \"paired\", \"processed\", \"film\")\n",
    "digital_paired_dir = os.path.join(\"data\", \"paired\", \"processed\", \"digital\")\n",
    "digital_film_data = PairedDataset(image_dirs=(film_paired_dir, digital_paired_dir))\n",
    "\n",
    "print(f\"✅ Loaded {len(digital_film_data)} paired samples\")"
   ]
  },
  {
   "cell_type": "code",
   "execution_count": null,
   "metadata": {},
   "outputs": [],
   "source": [
    "# Transforms\n",
    "film, digital = digital_film_data[13]\n",
    "film, digital = film.crop((0, 0, 256, 256)), digital.crop((0, 0, 256, 256))\n",
    "\n",
    "fig, ax = plt.subplots(1, 2, figsize=(10, 5))\n",
    "ax[0].imshow(pil_to_plot(film)); ax[1].imshow(pil_to_plot(digital));\n",
    "ax[0].set_title(\"Film\"); ax[1].set_title(\"Digital\");"
   ]
  },
  {
   "cell_type": "code",
   "execution_count": null,
   "metadata": {},
   "outputs": [],
   "source": [
    "print(type(film), type(digital))\n",
    "print(film.size, digital.size)"
   ]
  },
  {
   "cell_type": "markdown",
   "metadata": {},
   "source": [
    "### Transform to Model Input\n",
    "\n",
    "The model input should be normalised [0, 1] Tensors."
   ]
  },
  {
   "cell_type": "code",
   "execution_count": null,
   "metadata": {},
   "outputs": [],
   "source": [
    "to_model_input = ToModelInput()\n",
    "film_in, digital_in = to_model_input(film), to_model_input(digital)\n",
    "\n",
    "print(film_in.dtype, digital_in.dtype)\n",
    "print(film_in.shape, digital_in.shape)"
   ]
  },
  {
   "cell_type": "code",
   "execution_count": null,
   "metadata": {},
   "outputs": [],
   "source": [
    "# Show\n",
    "fig, ax = plt.subplots(1, 2, figsize=(10, 5))\n",
    "ax[0].imshow(tensor_to_plot(film_in)); ax[1].imshow(tensor_to_plot(digital_in));\n",
    "ax[0].set_title(\"Film\"); ax[1].set_title(\"Digital\");"
   ]
  },
  {
   "cell_type": "markdown",
   "metadata": {},
   "source": [
    "### Transform from Model Input\n",
    "\n",
    "The model input should be normalised [0, 1] Tensors."
   ]
  },
  {
   "cell_type": "code",
   "execution_count": null,
   "metadata": {},
   "outputs": [],
   "source": [
    "from_model_input = FromModelInput()\n",
    "film_out, digital_out = from_model_input(film_in), from_model_input(digital_in)\n",
    "\n",
    "print(type(film), type(digital))\n",
    "print(film.size, digital.size)"
   ]
  },
  {
   "cell_type": "code",
   "execution_count": null,
   "metadata": {},
   "outputs": [],
   "source": [
    "# Show transform\n",
    "fig, ax = plt.subplots(1, 2, figsize=(10, 5))\n",
    "ax[0].imshow(pil_to_plot(film_out)); ax[1].imshow(pil_to_plot(digital_out));\n",
    "ax[0].set_title(\"Film\"); ax[1].set_title(\"Digital\");"
   ]
  },
  {
   "cell_type": "markdown",
   "metadata": {},
   "source": [
    "### Augment"
   ]
  },
  {
   "cell_type": "code",
   "execution_count": null,
   "metadata": {},
   "outputs": [],
   "source": [
    "augment = Augment(0.2)\n",
    "film_augment, digital_augment = augment(torch.cat([film_in.unsqueeze(0), digital_in.unsqueeze(0)], dim=0))\n",
    "\n",
    "# Show transform\n",
    "fig, ax = plt.subplots(1, 2, figsize=(10, 5))\n",
    "ax[0].imshow(tensor_to_plot(film_augment)); ax[1].imshow(tensor_to_plot(digital_augment));\n",
    "ax[0].set_title(\"Film\"); ax[1].set_title(\"Digital\");"
   ]
  }
 ],
 "metadata": {
  "kernelspec": {
   "display_name": "sillystill",
   "language": "python",
   "name": "python3"
  },
  "language_info": {
   "codemirror_mode": {
    "name": "ipython",
    "version": 3
   },
   "file_extension": ".py",
   "mimetype": "text/x-python",
   "name": "python",
   "nbconvert_exporter": "python",
   "pygments_lexer": "ipython3",
   "version": "3.9.16"
  }
 },
 "nbformat": 4,
 "nbformat_minor": 2
}
