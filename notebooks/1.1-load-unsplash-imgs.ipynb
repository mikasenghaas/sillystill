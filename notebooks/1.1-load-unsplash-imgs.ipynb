{
 "cells": [
  {
   "cell_type": "markdown",
   "metadata": {},
   "source": [
    "# 🗂 Load Unpaired Image Data with the Unsplash API\n",
    "\n",
    "Documentation for Unplash [link](https://unsplash.com/documentation#getting-started)\n",
    "\n",
    "Python with Unsplash [tutorial](https://dev.to/okeeffed/unsplash-api-with-python-3p9p)\n",
    "\n",
    "Documentation for [pyunsplash library](https://pyunsplash.readthedocs.io/en/latest/)\n",
    "\n",
    "NOTE: DON'T run these cells many times, there is a rate limit on our Unsplash Account"
   ]
  },
  {
   "cell_type": "code",
   "execution_count": null,
   "metadata": {},
   "outputs": [],
   "source": [
    "import os\n",
    "from os.path import join, dirname, abspath\n",
    "from dotenv import load_dotenv\n",
    "from pyunsplash import PyUnsplash\n",
    "import requests\n",
    "from PIL import Image"
   ]
  },
  {
   "cell_type": "markdown",
   "metadata": {},
   "source": [
    "### Load environment variables\n",
    "\n",
    "Probably not a great idea to have the access key in plaintext in a git-tracked file, but it's just a demo\n",
    "\n",
    "Annamira's access key: `soccs2fmeCHj1lY2rae7-nyKA2KfRlKN5edXOBWLC_g`\n",
    "\n",
    "Instead, we want:\n",
    "\n",
    "`UNSPLASH_ACCESS_KEY = os.environ.get(\"UNSPLASH_ACCESS_KEY\")`\n",
    "\n",
    "And in a file called `.env.local` in the project root directory store, we define:\n",
    "\n",
    "`UNSPLASH_ACCESS_KEY=your_access_key_here`"
   ]
  },
  {
   "cell_type": "code",
   "execution_count": null,
   "metadata": {},
   "outputs": [],
   "source": [
    "dotenv_path = join(dirname(abspath(\"__file__\")), '../.env.local')\n",
    "load_dotenv(dotenv_path)\n",
    "\n",
    "UNSPLASH_ACCESS_KEY = \"soccs2fmeCHj1lY2rae7-nyKA2KfRlKN5edXOBWLC_g\" \n",
    "\n",
    "unsplash_git_lfs_path = '../data/unsplash/'\n",
    "example_path = '../imgs/'"
   ]
  },
  {
   "cell_type": "code",
   "execution_count": null,
   "metadata": {},
   "outputs": [],
   "source": [
    "print(UNSPLASH_ACCESS_KEY)"
   ]
  },
  {
   "cell_type": "markdown",
   "metadata": {},
   "source": [
    "#### Some helper functions for saving and displaying images returned by `pyunsplash` requests"
   ]
  },
  {
   "cell_type": "code",
   "execution_count": null,
   "metadata": {},
   "outputs": [],
   "source": [
    "def save_image(path: str, photo: pyunsplash.src.photos.Photo):\n",
    "    \"\"\"\n",
    "    Save the image from the given Unsplash photo object to the specified path.\n",
    "    \n",
    "    Args:\n",
    "        path (str): The path where the image should be saved.\n",
    "        photo (pyunsplash.src.photos.Photo): The Unsplash photo object.\n",
    "    \n",
    "    Returns:\n",
    "        str: The full path and filename of the saved image.\n",
    "    \"\"\"\n",
    "    filename = path + 'unsplash_' + photo.body['slug'] + '.png'\n",
    "    response = requests.get(photo.link_download, allow_redirects=True)\n",
    "    open(filename, 'wb').write(response.content)\n",
    "    return filename\n",
    "\n",
    "def display_image(filename: str):\n",
    "    \"\"\"\n",
    "    Display an image given its filename.\n",
    "    \n",
    "    Parameters:\n",
    "    filename (str): The path to the image file.\n",
    "    \"\"\"\n",
    "    display(Image.open(filename))\n"
   ]
  },
  {
   "cell_type": "markdown",
   "metadata": {},
   "source": [
    "### Example API usage\n",
    "\n",
    "#### Download our first image -- running these cells causes ONE API request"
   ]
  },
  {
   "cell_type": "code",
   "execution_count": null,
   "metadata": {},
   "outputs": [],
   "source": [
    "# instantiate PyUnsplash object\n",
    "pu = PyUnsplash(api_key=UNSPLASH_ACCESS_KEY)\n",
    "\n",
    "photos = pu.photos(type_='random', count=1, featured=True, query=\"splash\")\n",
    "[photo] = photos.entries\n",
    "print(photo.id, photo.link_download)"
   ]
  },
  {
   "cell_type": "markdown",
   "metadata": {},
   "source": [
    "#### Save and display the image\n",
    "\n",
    "In this simple case, we just save the image to `.../imgs/` (won't be tagged by `git lfs`)"
   ]
  },
  {
   "cell_type": "code",
   "execution_count": null,
   "metadata": {},
   "outputs": [],
   "source": [
    "\n",
    "example_filename = save_image(example_path, photo)\n",
    "display_image(example_filename)"
   ]
  },
  {
   "cell_type": "markdown",
   "metadata": {},
   "source": [
    "### Example API usage with search terms\n",
    "#### Download Cinestill-tagged images to `data/unsplash` directory, so that they are stored with `git lfs`\n",
    "\n",
    "NOTE: `pu.search` causes a request, and the `per_page` input will cause more image results PER REQUEST"
   ]
  },
  {
   "cell_type": "markdown",
   "metadata": {},
   "source": [
    "#### Helper function to filter photos based on Cinestill 800T relevancy "
   ]
  },
  {
   "cell_type": "code",
   "execution_count": null,
   "metadata": {},
   "outputs": [],
   "source": [
    "# filter entries based on relevancy, returns boolean\n",
    "def filter_relevancy(entry: pyunsplash.src.photos.Photo) -> bool:\n",
    "    \"\"\"\n",
    "    Filter function to determine the relevancy of a photo entry based on its description. \n",
    "    Filter for the inclusion of both 'cinestill' and '800' in the description.\n",
    "    \n",
    "    Args:\n",
    "        entry (pyunsplash.src.photos.Photo): The photo entry to be filtered.\n",
    "        \n",
    "    Returns:\n",
    "        bool: True if the photo entry is relevant, False otherwise.\n",
    "    \"\"\"\n",
    "    if entry.body[\"description\"]:\n",
    "        des = entry.body[\"description\"].lower()\n",
    "        return 'cinestill' in des and '800' in des\n",
    "    else:\n",
    "        return False"
   ]
  },
  {
   "cell_type": "markdown",
   "metadata": {},
   "source": [
    "#### Example request of many photos based on a search term\n",
    "this cell causes a new API request!"
   ]
  },
  {
   "cell_type": "code",
   "execution_count": null,
   "metadata": {},
   "outputs": [],
   "source": [
    "# THIS CELL CAUSES A REQUEST TO UNSPLASH API\n",
    "search_result_photos = pu.search(type_='photos', query='cinestill', per_page=10000)\n"
   ]
  },
  {
   "cell_type": "markdown",
   "metadata": {},
   "source": [
    "#### Let's see what the results are and print their URLS\n",
    "This cell doesn't cause a new API request\n"
   ]
  },
  {
   "cell_type": "code",
   "execution_count": null,
   "metadata": {},
   "outputs": [],
   "source": [
    "# THIS CELL DOES NOT CAUSE A REQUEST \n",
    "# filter entries based on relevancy, print out urls\n",
    "filtered_photos = filter(lambda entry: filter_relevancy(entry), search_result_photos.entries)\n",
    "# Go through filtered photos and save them to our unsplash data\n",
    "filtered_photos_lst = list(filtered_photos)\n",
    "print(\"After filtering, we have a total of\", len(filtered_photos_lst), \"relevant photos.\")\n",
    "for entry in filtered_photos_lst:\n",
    "    im_name = entry.body['slug']\n",
    "    print(f\"Click to view image {im_name[:30]}... online: \", entry.link_html)\n"
   ]
  },
  {
   "cell_type": "markdown",
   "metadata": {},
   "source": [
    "#### If we like the result, let's save the images to `../data/unsplash/`"
   ]
  },
  {
   "cell_type": "code",
   "execution_count": null,
   "metadata": {},
   "outputs": [],
   "source": [
    "for entry in filtered_photos_lst:\n",
    "    filename = save_image(unsplash_git_lfs_path, entry)\n",
    "    print(\"Saved image to\", filename)\n",
    "    # display_image(f) # very large display, uncommenting is not recommended"
   ]
  },
  {
   "cell_type": "code",
   "execution_count": null,
   "metadata": {},
   "outputs": [],
   "source": []
  }
 ],
 "metadata": {
  "kernelspec": {
   "display_name": "Python 3",
   "language": "python",
   "name": "python3"
  },
  "language_info": {
   "codemirror_mode": {
    "name": "ipython",
    "version": 3
   },
   "file_extension": ".py",
   "mimetype": "text/x-python",
   "name": "python",
   "nbconvert_exporter": "python",
   "pygments_lexer": "ipython3",
   "version": "3.9.5"
  }
 },
 "nbformat": 4,
 "nbformat_minor": 2
}
