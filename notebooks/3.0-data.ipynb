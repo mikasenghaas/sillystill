{
 "cells": [
  {
   "cell_type": "markdown",
   "metadata": {},
   "source": [
    "# ⚡ Lightning Data Module\n",
    "\n",
    "This notebook shows how to use the various data modules defined in this project."
   ]
  },
  {
   "cell_type": "markdown",
   "metadata": {},
   "source": [
    "## Setup\n",
    "\n",
    "---\n",
    "\n",
    "Let's install some necessary dependencies and set global variables."
   ]
  },
  {
   "cell_type": "code",
   "execution_count": null,
   "metadata": {},
   "outputs": [],
   "source": [
    "%reload_ext autoreload\n",
    "%autoreload 2"
   ]
  },
  {
   "cell_type": "code",
   "execution_count": null,
   "metadata": {},
   "outputs": [],
   "source": [
    "# Autoroot\n",
    "import autorootcwd"
   ]
  },
  {
   "cell_type": "code",
   "execution_count": null,
   "metadata": {},
   "outputs": [],
   "source": [
    "# Imports\n",
    "import os\n",
    "\n",
    "import numpy as np\n",
    "from matplotlib import pyplot as plt\n",
    "from torch.utils.data import DataLoader\n",
    "from hydra import compose, initialize\n",
    "from hydra.utils import instantiate\n",
    "from torchvision.transforms.v2.functional import to_pil_image\n",
    "\n",
    "# Local modules\n",
    "from src.data.components import PairedDataset, UnpairedDataset, CombinedDataset\n",
    "from src.data import PairedDigitalFilmDataModule, CombinedDigitalFilmDataModule"
   ]
  },
  {
   "cell_type": "code",
   "execution_count": null,
   "metadata": {},
   "outputs": [],
   "source": [
    "# Constants\n",
    "RAW_DIR = os.getcwd()\n",
    "DATA_DIR = os.path.join(RAW_DIR, 'data')"
   ]
  },
  {
   "cell_type": "markdown",
   "metadata": {},
   "source": [
    "## Datasets"
   ]
  },
  {
   "cell_type": "markdown",
   "metadata": {},
   "source": [
    "### Paired Data\n",
    "\n",
    "\n",
    "Initialises a `PairedDataset` instance. This dataset is used to load\n",
    "image pairs from two data directories. The dataset assumes that the\n",
    "filenames in both directories match for corresponding image pairs\n",
    "and are in the same format. Data augmentation can be applied to the\n",
    "images when loading. The dataset can be truncated to a maximum number\n",
    "of samples, if required."
   ]
  },
  {
   "cell_type": "code",
   "execution_count": null,
   "metadata": {},
   "outputs": [],
   "source": [
    "# Instantiate dataset\n",
    "film_paired_dir = os.path.join(DATA_DIR, \"paired\", \"processed\", \"film\")\n",
    "digital_paired_dir = os.path.join(DATA_DIR, \"paired\", \"processed\", \"digital\")\n",
    "digital_film_data = PairedDataset(image_dirs=(film_paired_dir, digital_paired_dir))\n",
    "\n",
    "print(f\"✅ Loaded {len(digital_film_data)} paired samples\")"
   ]
  },
  {
   "cell_type": "code",
   "execution_count": null,
   "metadata": {},
   "outputs": [],
   "source": [
    "# Inspect samples\n",
    "film, digital = digital_film_data[0]\n",
    "print(f\"Film type: {type(film)}, Digital type: {type(digital)}\")\n",
    "print(f\"Film image: {film.size}, Digital image {digital.size}\")\n",
    "\n",
    "# Show sample\n",
    "fig, axs = plt.subplots(ncols=2, figsize=(16, 8))\n",
    "axs[0].imshow(np.array(film)); axs[1].imshow(np.array(digital))\n",
    "axs[0].set_title(\"Film\"); axs[1].set_title(\"Digital\");"
   ]
  },
  {
   "cell_type": "code",
   "execution_count": null,
   "metadata": {},
   "outputs": [],
   "source": [
    "# Create dataloader\n",
    "batch_size = 4\n",
    "dataloader = DataLoader(digital_film_data, batch_size=batch_size, collate_fn=digital_film_data.collate)\n",
    "\n",
    "film_batch, digital_batch = next(iter(dataloader))\n",
    "print(f\"Film Type: {type(film_batch)}, Digital batch: {type(digital_batch)}\")\n",
    "print(f\"Film Batch: {film_batch.shape}, Digital batch: {digital_batch.shape}\")\n",
    "\n",
    "# Show sample\n",
    "fig, axs = plt.subplots(nrows=2, ncols=batch_size, figsize=(4 * batch_size, 6))\n",
    "fig.suptitle(\"Film-Digital Batch\")\n",
    "fig.tight_layout(pad=1.0)\n",
    "for i in range(batch_size):\n",
    "    axs[0, i].imshow(np.array(to_pil_image(film_batch[i])))\n",
    "    axs[1, i].imshow(np.array((to_pil_image(digital_batch[i]))))\n",
    "axs[0, 0].set_ylabel(\"Film\")\n",
    "axs[1, 0].set_ylabel(\"Digital\");"
   ]
  },
  {
   "cell_type": "markdown",
   "metadata": {},
   "source": [
    "### Unpaired Data\n",
    "\n",
    "Initialises a `UnpairedDataset` instance. This dataset is used to load images from\n",
    "a single image directory and apply data augmentation if required. The dataset can be\n",
    "truncated to a maximum number of samples, if required."
   ]
  },
  {
   "cell_type": "code",
   "execution_count": null,
   "metadata": {},
   "outputs": [],
   "source": [
    "# Instantiate digital dataset\n",
    "digital_unpaired_dir = os.path.join(DATA_DIR, \"unpaired\", \"digital\")\n",
    "digital_dataset = UnpairedDataset(image_dir=digital_unpaired_dir)\n",
    "\n",
    "print(f\"✅ Loaded {len(digital_dataset)} digital samples\")"
   ]
  },
  {
   "cell_type": "code",
   "execution_count": null,
   "metadata": {},
   "outputs": [],
   "source": [
    "# Inspect sample\n",
    "digital = digital_dataset[0]\n",
    "print(f\"Image type: {type(digital)}, Image shape: {digital.size}\")"
   ]
  },
  {
   "cell_type": "code",
   "execution_count": null,
   "metadata": {},
   "outputs": [],
   "source": [
    "# Inspect samples\n",
    "digital_loader = DataLoader(digital_dataset, batch_size=batch_size, collate_fn=digital_dataset.collate)\n",
    "digital_batch = next(iter(digital_loader))\n",
    "print(f\"Digital batch size: {digital_batch.shape}\")\n",
    "\n",
    "# Show sample\n",
    "fig, axs = plt.subplots(ncols=batch_size, figsize=(4 * batch_size, 3))\n",
    "fig.suptitle(\"Digital samples\")\n",
    "for i in range(batch_size):\n",
    "    axs[i].imshow(np.array(to_pil_image((digital_batch[i]))))"
   ]
  },
  {
   "cell_type": "code",
   "execution_count": null,
   "metadata": {},
   "outputs": [],
   "source": [
    "# Instantiate film dataset\n",
    "film_unpaired_dir = os.path.join(DATA_DIR, \"unpaired\", \"film\")\n",
    "film_dataset = UnpairedDataset(image_dir=film_unpaired_dir)\n",
    "\n",
    "print(f\"✅ Loaded {len(film_dataset)} film samples\")"
   ]
  },
  {
   "cell_type": "code",
   "execution_count": null,
   "metadata": {},
   "outputs": [],
   "source": [
    "# Inspect samples\n",
    "film_loader = DataLoader(film_dataset, batch_size=batch_size, collate_fn=film_dataset.collate)\n",
    "film_batch = next(iter(film_loader))\n",
    "print(f\"Film batch size: {film_batch.shape}\")\n",
    "\n",
    "# Show sample\n",
    "fig, axs = plt.subplots(ncols=batch_size, figsize=(4 * batch_size, 3))\n",
    "fig.suptitle(\"Film samples\")\n",
    "for i in range(batch_size):\n",
    "    axs[i].imshow(np.array(to_pil_image(film_batch[i])))"
   ]
  },
  {
   "cell_type": "markdown",
   "metadata": {},
   "source": [
    "### Combined dataset"
   ]
  },
  {
   "cell_type": "code",
   "execution_count": null,
   "metadata": {},
   "outputs": [],
   "source": [
    "# Instantiate combined dataset\n",
    "combined_dataset = CombinedDataset(\n",
    "    digital_dataset=digital_dataset,\n",
    "    film_dataset=film_dataset,\n",
    "    paired_dataset=digital_film_data,\n",
    "    num_paired_per_batch=1,\n",
    "    num_unpaired_per_batch=1,\n",
    ")\n",
    "\n",
    "print(f\"✅ Loaded {len(combined_dataset)} combined batches\")"
   ]
  },
  {
   "cell_type": "code",
   "execution_count": null,
   "metadata": {},
   "outputs": [],
   "source": [
    "# Inspect samples\n",
    "film, digital, (film_paired, digital_paired) = combined_dataset[0]\n",
    "print(f\"Digital: {digital.shape}, Film: {film.shape}\")\n",
    "print(f\"Digital paired: {digital_paired.shape}, Film paired: {film_paired.shape}\")\n",
    "\n",
    "# Show sample\n",
    "fig, axs = plt.subplots(nrows=2, ncols=2, figsize=(10, 10))\n",
    "axs[0, 0].imshow(np.array(to_pil_image(digital[0])))\n",
    "axs[0, 1].imshow(np.array(to_pil_image(film[0])))\n",
    "axs[1, 0].imshow(np.array(to_pil_image(digital_paired[0])))\n",
    "axs[1, 1].imshow(np.array(to_pil_image(film_paired[0])))\n",
    "axs[0, 0].set_title(\"Digital\")\n",
    "axs[0, 1].set_title(\"Film\")\n",
    "axs[1, 0].set_title(\"Digital paired\")\n",
    "axs[1, 1].set_title(\"Film paired\");"
   ]
  },
  {
   "cell_type": "markdown",
   "metadata": {},
   "source": [
    "## Datamodules"
   ]
  },
  {
   "cell_type": "markdown",
   "metadata": {},
   "source": [
    "### Paired Digital Film Data\n",
    "\n",
    "Initialise a `PairedDigitalFilmDataModule` which is a Lightning wrapper around\n",
    "the paired digital-film image pair dataset. The dataset is split into\n",
    "train, validation and test sets."
   ]
  },
  {
   "cell_type": "code",
   "execution_count": null,
   "metadata": {},
   "outputs": [],
   "source": [
    "# Instantiate digital-film data module\n",
    "batch_size = 4\n",
    "digital_film_data_module = PairedDigitalFilmDataModule(batch_size=batch_size)\n",
    "\n",
    "# Setup data module\n",
    "digital_film_data_module.prepare_data()\n",
    "digital_film_data_module.setup()\n",
    "\n",
    "print(f\"✅ Loaded and prepared data module\")"
   ]
  },
  {
   "cell_type": "code",
   "execution_count": null,
   "metadata": {},
   "outputs": [],
   "source": [
    "# Get loader\n",
    "train_loader = digital_film_data_module.train_dataloader()\n",
    "val_loader = digital_film_data_module.val_dataloader() # Batch size: 1\n",
    "test_loader = digital_film_data_module.test_dataloader() # Batch size: 1\n",
    "\n",
    "print(f\"Train loader: {len(train_loader)}, Val loader: {len(val_loader)}, Test loader: {len(test_loader)}\")"
   ]
  },
  {
   "cell_type": "code",
   "execution_count": null,
   "metadata": {},
   "outputs": [],
   "source": [
    "# Get batch\n",
    "film_batch, digital_batch = next(iter(train_loader))\n",
    "print(f\"Film Batch: {film_batch.shape}, Digital batch: {digital_batch.shape}\")\n",
    "\n",
    "# Show sample\n",
    "fig, axs = plt.subplots(nrows=2, ncols=batch_size, figsize=(4 * batch_size, 8))\n",
    "fig.suptitle(\"Digital-Film Batch\")\n",
    "fig.tight_layout(pad=1.0)\n",
    "for i in range(batch_size):\n",
    "    axs[0, i].imshow(np.array(to_pil_image((film_batch[i]))))\n",
    "    axs[1, i].imshow(np.array(to_pil_image(digital_batch[i])))\n",
    "axs[0, 0].set_ylabel(\"Film\")\n",
    "axs[1, 0].set_ylabel(\"Digital\");"
   ]
  },
  {
   "cell_type": "markdown",
   "metadata": {},
   "source": [
    "### Combined Film Data Module\n"
   ]
  },
  {
   "cell_type": "code",
   "execution_count": null,
   "metadata": {},
   "outputs": [],
   "source": [
    "# Instantiate combined data module\n",
    "combined_digital_film_data_module = CombinedDigitalFilmDataModule(\n",
    "    batch_size=batch_size,\n",
    "    num_paired_per_batch=1,\n",
    "    num_unpaired_per_batch=1,\n",
    ")\n",
    "\n",
    "# Setup data module\n",
    "combined_digital_film_data_module.prepare_data()\n",
    "combined_digital_film_data_module.setup()\n",
    "\n",
    "print(f\"✅ Loaded and prepared data module\")"
   ]
  },
  {
   "cell_type": "code",
   "execution_count": null,
   "metadata": {},
   "outputs": [],
   "source": [
    "# Get loader\n",
    "train_loader = combined_digital_film_data_module.train_dataloader() \n",
    "val_loader = combined_digital_film_data_module.val_dataloader() \n",
    "test_loader = combined_digital_film_data_module.test_dataloader()\n",
    "\n",
    "print(f\"Train loader: {len(train_loader)}, Val loader: {len(val_loader)}, Test loader: {len(test_loader)}\")"
   ]
  },
  {
   "cell_type": "code",
   "execution_count": null,
   "metadata": {},
   "outputs": [],
   "source": [
    "batch = next(iter(train_loader))\n",
    "\n",
    "batch[2].shape"
   ]
  },
  {
   "cell_type": "code",
   "execution_count": null,
   "metadata": {},
   "outputs": [],
   "source": [
    "# Get batch\n",
    "film_batch, digital_batch, paired_batch = next(iter(train_loader))\n",
    "film_batch, digital_batch = film_batch.squeeze(0), digital_batch.squeeze(0),\n",
    "film_paired_batch, digital_paired_batch = paired_batch.squeeze(0)\n",
    "\n",
    "print(f\"Film Batch: {film_batch.shape}, Digital batch: {digital_batch.shape}, Film paired batch: {film_paired_batch.shape}, Digital paired batch: {digital_paired_batch.shape}\")\n",
    "\n",
    "# Show sample\n",
    "fig, axs = plt.subplots(nrows=2, ncols=2, figsize=(8, 8))\n",
    "fig.suptitle(\"Digital-Film Batch\")\n",
    "fig.tight_layout(pad=1.0)\n",
    "axs[0, 0].imshow(np.array(to_pil_image(film_batch[0])))\n",
    "axs[0, 1].imshow(np.array(to_pil_image(digital_batch[0])))\n",
    "axs[1, 0].imshow(np.array(to_pil_image(film_paired_batch[0])))\n",
    "axs[1, 1].imshow(np.array(to_pil_image(digital_paired_batch[0])));"
   ]
  },
  {
   "cell_type": "markdown",
   "metadata": {},
   "source": [
    "## Hydra\n",
    "\n",
    "We can initialise the two above data modules in a Hydra configuration file. The configuration files are located in `configs/data`."
   ]
  },
  {
   "cell_type": "code",
   "execution_count": null,
   "metadata": {},
   "outputs": [],
   "source": [
    "# Instantiate paired data module\n",
    "with initialize(version_base=None, config_path=\"../configs/data\", job_name=\"data\"):\n",
    "        cfg = compose(config_name=\"paired\")\n",
    "        \n",
    "        # Instantiate data module\n",
    "        datamodule = instantiate(cfg)\n",
    "\n",
    "        # Setup data module\n",
    "        datamodule.prepare_data()\n",
    "        datamodule.setup()\n",
    "\n",
    "        print(f\"✅ Loaded and prepared data module\")"
   ]
  },
  {
   "cell_type": "code",
   "execution_count": null,
   "metadata": {},
   "outputs": [],
   "source": [
    "# Instantiate paired data module\n",
    "with initialize(version_base=None, config_path=\"../configs/data\", job_name=\"data\"):\n",
    "        cfg = compose(config_name=\"combined\")\n",
    "        \n",
    "        # Instantiate data module\n",
    "        datamodule = instantiate(cfg)\n",
    "\n",
    "        # Setup data module\n",
    "        datamodule.prepare_data()\n",
    "        datamodule.setup()\n",
    "\n",
    "        print(f\"✅ Loaded and prepared data module\")"
   ]
  }
 ],
 "metadata": {
  "kernelspec": {
   "display_name": "sillystill",
   "language": "python",
   "name": "python3"
  },
  "language_info": {
   "codemirror_mode": {
    "name": "ipython",
    "version": 3
   },
   "file_extension": ".py",
   "mimetype": "text/x-python",
   "name": "python",
   "nbconvert_exporter": "python",
   "pygments_lexer": "ipython3",
   "version": "3.9.16"
  }
 },
 "nbformat": 4,
 "nbformat_minor": 2
}
