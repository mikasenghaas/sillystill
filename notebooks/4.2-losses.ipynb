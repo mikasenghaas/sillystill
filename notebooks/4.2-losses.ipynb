{
 "cells": [
  {
   "cell_type": "markdown",
   "metadata": {},
   "source": [
    "# ⚡ Losses\n",
    "\n",
    "This notebook shows how to use the various losses defined in this project."
   ]
  },
  {
   "cell_type": "markdown",
   "metadata": {},
   "source": [
    "## Setup\n",
    "\n",
    "---\n",
    "\n",
    "Let's install some necessary dependencies and set global variables."
   ]
  },
  {
   "cell_type": "code",
   "execution_count": null,
   "metadata": {},
   "outputs": [],
   "source": [
    "%reload_ext autoreload\n",
    "%autoreload 2"
   ]
  },
  {
   "cell_type": "code",
   "execution_count": null,
   "metadata": {},
   "outputs": [],
   "source": [
    "# Autoroot\n",
    "import autorootcwd"
   ]
  },
  {
   "cell_type": "code",
   "execution_count": null,
   "metadata": {},
   "outputs": [],
   "source": [
    "# Imports\n",
    "import torch\n",
    "from torch.nn import MSELoss\n",
    "from hydra import compose, initialize\n",
    "from hydra.utils import instantiate\n",
    "\n",
    "from src.models.loss import CoBiLoss, MSEVGGLoss, AutoTranslateLoss"
   ]
  },
  {
   "cell_type": "code",
   "execution_count": null,
   "metadata": {},
   "outputs": [],
   "source": [
    "x = torch.randn(1, 3, 128, 128)\n",
    "y = torch.randn(1, 3, 128, 128)"
   ]
  },
  {
   "cell_type": "markdown",
   "metadata": {},
   "source": [
    "### MSE\n",
    "\n",
    "The `MSELoss` is the mean squared error between two tensors."
   ]
  },
  {
   "cell_type": "code",
   "execution_count": null,
   "metadata": {},
   "outputs": [],
   "source": [
    "# Initialise `MSELoss`\n",
    "mse = MSELoss()\n",
    "loss1, loss2 = mse(x, x), mse(x, y)\n",
    "assert loss1 < loss2\n",
    "\n",
    "loss1, loss2"
   ]
  },
  {
   "cell_type": "markdown",
   "metadata": {},
   "source": [
    "### CoBiLoss"
   ]
  },
  {
   "cell_type": "code",
   "execution_count": null,
   "metadata": {},
   "outputs": [],
   "source": [
    "# Initialise `CobiLoss`\n",
    "cobi = CoBiLoss()\n",
    "loss1, loss2 = cobi(x, x), cobi(x, y)\n",
    "assert loss1 < loss2\n",
    "\n",
    "loss1, loss2"
   ]
  },
  {
   "cell_type": "markdown",
   "metadata": {},
   "source": [
    "### MSE-VGG Loss"
   ]
  },
  {
   "cell_type": "code",
   "execution_count": null,
   "metadata": {},
   "outputs": [],
   "source": [
    "# Initialise `MSEVGGLoss`\n",
    "mse_vgg = MSEVGGLoss()\n",
    "loss1, loss2 = mse_vgg(x, x), mse_vgg(x, y)\n",
    "assert loss1 < loss2\n",
    "\n",
    "loss1, loss2"
   ]
  },
  {
   "cell_type": "markdown",
   "metadata": {},
   "source": [
    "### AutoTranslateLoss"
   ]
  },
  {
   "cell_type": "code",
   "execution_count": null,
   "metadata": {},
   "outputs": [],
   "source": [
    "# Initialise `AutoTranslateLoss`\n",
    "auto_translate = AutoTranslateLoss()\n",
    "# TODO: Show how to use"
   ]
  },
  {
   "cell_type": "markdown",
   "metadata": {},
   "source": [
    "## Hydra"
   ]
  },
  {
   "cell_type": "code",
   "execution_count": null,
   "metadata": {},
   "outputs": [],
   "source": [
    "for loss in [\"mse\", \"cobi\", \"simple-combined\", \"auto-translate\"]:\n",
    "    with initialize(version_base=None, config_path=\"../configs/model/loss\", job_name=\"losses\"):\n",
    "        cfg = compose(config_name=loss)\n",
    "        loss = instantiate(cfg)\n",
    "        print(f\"✅ Initialised {cfg._target_}\")"
   ]
  }
 ],
 "metadata": {
  "kernelspec": {
   "display_name": "sillystill",
   "language": "python",
   "name": "python3"
  },
  "language_info": {
   "codemirror_mode": {
    "name": "ipython",
    "version": 3
   },
   "file_extension": ".py",
   "mimetype": "text/x-python",
   "name": "python",
   "nbconvert_exporter": "python",
   "pygments_lexer": "ipython3",
   "version": "3.9.16"
  }
 },
 "nbformat": 4,
 "nbformat_minor": 2
}
