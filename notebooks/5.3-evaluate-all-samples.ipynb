{
 "cells": [
  {
   "cell_type": "markdown",
   "metadata": {},
   "source": [
    "# Evaluation on All Samples\n",
    "\n",
    "We use a trained model and generate metrics "
   ]
  },
  {
   "cell_type": "markdown",
   "metadata": {},
   "source": [
    "## Setup\n",
    "\n",
    "---\n",
    "\n",
    "Let's install some necessary dependencies and set global variables."
   ]
  },
  {
   "cell_type": "code",
   "execution_count": null,
   "metadata": {},
   "outputs": [],
   "source": [
    "%reload_ext autoreload\n",
    "%autoreload 2"
   ]
  },
  {
   "cell_type": "code",
   "execution_count": null,
   "metadata": {},
   "outputs": [],
   "source": [
    "import autorootcwd"
   ]
  },
  {
   "cell_type": "code",
   "execution_count": null,
   "metadata": {},
   "outputs": [],
   "source": [
    "# Imports\n",
    "import os\n",
    "import json\n",
    "import wandb\n",
    "from matplotlib import pyplot as plt\n",
    "\n",
    "from src.data.components import PairedDataset\n",
    "from src.models import TranslationModule\n",
    "from src.utils import process_pair\n",
    "\n",
    "import torch\n",
    "from torch.utils.data import Subset\n",
    "from torchmetrics import MetricCollection\n",
    "from torchmetrics.image import (\n",
    "    StructuralSimilarityIndexMeasure as SSIM,\n",
    "    PeakSignalNoiseRatio as PSNR,\n",
    ")\n",
    "\n",
    "from torchmetrics.image.lpip import LearnedPerceptualImagePatchSimilarity as LPIPS\n",
    "from src.eval import PieAPP"
   ]
  },
  {
   "cell_type": "code",
   "execution_count": null,
   "metadata": {},
   "outputs": [],
   "source": [
    "# Constants\n",
    "api = wandb.Api()\n",
    "\n",
    "# Define W&B Run ID\n",
    "USER = \"sillystill\"\n",
    "PROJECT = \"sillystill\"\n",
    "RUN_ID = \"8edwcgyg\"\n",
    "VERSION = \"v0\"\n",
    "SAVE_IMAGES = False\n",
    "\n",
    "# Define local path\n",
    "LOCAL_PATH = \"logs/hydra/runs/2024-05-16_22-10-43/checkpoints/best.ckpt\"\n",
    "\n",
    "# Hyperparameter\n",
    "SUBSET = True\n",
    "SUBSET_SIZE = 1\n",
    "DOWNSAMPLE = 16"
   ]
  },
  {
   "cell_type": "markdown",
   "metadata": {},
   "source": [
    "## Translation Module\n"
   ]
  },
  {
   "cell_type": "code",
   "execution_count": null,
   "metadata": {},
   "outputs": [],
   "source": [
    "# Download from checkpoint\n",
    "if RUN_ID and VERSION:\n",
    "    try:\n",
    "        CKPT = f\"{USER}/{PROJECT}/model-{RUN_ID}:{VERSION}\"\n",
    "        artifact = api.artifact(CKPT)\n",
    "        artifact.download()\n",
    "        path = os.path.join(\"artifacts\", f\"model-{RUN_ID}:{VERSION}\", \"model.ckpt\")\n",
    "        print(f\"✅ Successfully downloaded checkpoint from {CKPT} to {path}\")\n",
    "    except Exception as e:\n",
    "        path = LOCAL_PATH\n",
    "        print(f\"ℹ️ Could not download checkpoint from {CKPT}\")\n",
    "        print(f\"✅ Loaded local path {path}\")"
   ]
  },
  {
   "cell_type": "code",
   "execution_count": null,
   "metadata": {},
   "outputs": [],
   "source": [
    "# Load the checkpoint\n",
    "model = TranslationModule.load_from_checkpoint(path);\n",
    "\n",
    "print(f\"✅ Loaded model from {path} (Device: {model.device})\")"
   ]
  },
  {
   "cell_type": "code",
   "execution_count": null,
   "metadata": {},
   "outputs": [],
   "source": [
    "# Load example image\n",
    "film_paired_dir = os.path.join(\"data\", \"paired\", \"processed\", \"film\")\n",
    "digital_paired_dir = os.path.join(\"data\", \"paired\", \"processed\", \"digital\")\n",
    "digital_film_data = PairedDataset(image_dirs=(film_paired_dir, digital_paired_dir))\n",
    "if SUBSET:\n",
    "    digital_film_data = Subset(digital_film_data, range(SUBSET_SIZE))\n",
    "\n",
    "print(f\"✅ Loaded {len(digital_film_data)} image pairs\")"
   ]
  },
  {
   "cell_type": "code",
   "execution_count": null,
   "metadata": {},
   "outputs": [],
   "source": [
    "# Define metrics\n",
    "metrics = MetricCollection(\n",
    "    {\n",
    "        \"ssim\": SSIM(),\n",
    "        \"psnr\": PSNR(),\n",
    "        \"lpips\": LPIPS(),\n",
    "        \"pieapp\": PieAPP(),\n",
    "    }\n",
    ")"
   ]
  },
  {
   "cell_type": "code",
   "execution_count": null,
   "metadata": {},
   "outputs": [],
   "source": [
    "# Run inference on all images\n",
    "from tqdm import tqdm\n",
    "\n",
    "all_metrics = {}\n",
    "for idx, (film, digital) in tqdm(enumerate(digital_film_data), total=len(digital_film_data)):\n",
    "    \n",
    "    # Run inference\n",
    "    film_predicted = model.predict(digital, downsample=DOWNSAMPLE)\n",
    "\n",
    "    # Process images to be in the same format as test images\n",
    "    film, film_predicted = process_pair(film, film_predicted, downsample=DOWNSAMPLE)\n",
    "\n",
    "    for metric in metrics:\n",
    "        if metric not in all_metrics:\n",
    "            all_metrics[metric] = []\n",
    "        \n",
    "        score = metrics[metric](film.unsqueeze(0), film_predicted.unsqueeze(0))\n",
    "\n",
    "        if isinstance(score, torch.Tensor):\n",
    "            score = score.item()\n",
    "\n",
    "        all_metrics[metric].append(score)\n",
    "\n",
    "    if SAVE_IMAGES:\n",
    "        # Save images\n",
    "        save_dir = f\"outputs/{RUN_ID}/{idx}\"\n",
    "        os.makedirs(save_dir, exist_ok=True)\n",
    "        digital.save(f\"{save_dir}/digital.png\")\n",
    "        film.save(f\"{save_dir}/film.png\")\n",
    "        film_predicted.save(f\"{save_dir}/film_predicted.png\")\n",
    "\n",
    "# Print metrics\n",
    "means = {metric: sum(scores) / len(scores) for metric, scores in all_metrics.items()}\n",
    "for metric, score in means.items():\n",
    "    print(f\"{metric}: {score}\")\n",
    "\n",
    "# Plot metric histograms\n",
    "for metric, scores in all_metrics.items():\n",
    "    plt.hist(scores, bins=20)\n",
    "    plt.title(metric)\n",
    "    plt.show()\n",
    "\n",
    "# Save metrics\n",
    "save_dir = f\"outputs/{RUN_ID}\"\n",
    "os.makedirs(save_dir, exist_ok=True)\n",
    "metrics_path = f\"outputs/{RUN_ID}/metrics.json\"\n",
    "with open(metrics_path, \"w\") as f:\n",
    "    json.dump(means, f)"
   ]
  }
 ],
 "metadata": {
  "kernelspec": {
   "display_name": "sillystill",
   "language": "python",
   "name": "python3"
  },
  "language_info": {
   "codemirror_mode": {
    "name": "ipython",
    "version": 3
   },
   "file_extension": ".py",
   "mimetype": "text/x-python",
   "name": "python",
   "nbconvert_exporter": "python",
   "pygments_lexer": "ipython3",
   "version": "3.9.19"
  }
 },
 "nbformat": 4,
 "nbformat_minor": 2
}
