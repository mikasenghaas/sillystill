{
 "cells": [
  {
   "cell_type": "markdown",
   "metadata": {},
   "source": [
    "# 🎨 Inference\n",
    "\n",
    "This notebook shows how to use the trained model to perform digital-to-film style transfer."
   ]
  },
  {
   "cell_type": "markdown",
   "metadata": {},
   "source": [
    "## Setup\n",
    "\n",
    "---\n",
    "\n",
    "Let's install some necessary dependencies and set global variables."
   ]
  },
  {
   "cell_type": "code",
   "execution_count": null,
   "metadata": {},
   "outputs": [],
   "source": [
    "%reload_ext autoreload\n",
    "%autoreload 2"
   ]
  },
  {
   "cell_type": "code",
   "execution_count": null,
   "metadata": {},
   "outputs": [],
   "source": [
    "import autorootcwd"
   ]
  },
  {
   "cell_type": "code",
   "execution_count": null,
   "metadata": {},
   "outputs": [],
   "source": [
    "# Imports\n",
    "import os\n",
    "import wandb\n",
    "from matplotlib import pyplot as plt\n",
    "\n",
    "from src.data.components import PairedDataset\n",
    "from src.models import TranslationModule\n",
    "from src.models.transforms import pil_to_plot"
   ]
  },
  {
   "cell_type": "code",
   "execution_count": null,
   "metadata": {},
   "outputs": [],
   "source": [
    "# Constants\n",
    "api = wandb.Api()\n",
    "\n",
    "# Define W&B Run ID\n",
    "USER = \"sillystill\"\n",
    "PROJECT = \"sillystill\"\n",
    "RUN_ID = \"uf9p1ygx\"\n",
    "VERSION = \"v0\"\n",
    "\n",
    "# Define local path\n",
    "LOCAL_PATH = \"logs/hydra/runs/2024-05-16_22-10-43/checkpoints/best.ckpt\""
   ]
  },
  {
   "cell_type": "markdown",
   "metadata": {},
   "source": [
    "## Translation Module\n"
   ]
  },
  {
   "cell_type": "code",
   "execution_count": null,
   "metadata": {},
   "outputs": [],
   "source": [
    "# Download from checkpoint\n",
    "if RUN_ID and VERSION:\n",
    "    try:\n",
    "        CKPT = f\"{USER}/{PROJECT}/model-{RUN_ID}:{VERSION}\"\n",
    "        artifact = api.artifact(CKPT)\n",
    "        artifact.download()\n",
    "        path = os.path.join(\"artifacts\", f\"model-{RUN_ID}:{VERSION}\", \"model.ckpt\")\n",
    "        print(f\"✅ Successfully downloaded checkpoint from {CKPT} to {path}\")\n",
    "    except Exception as e:\n",
    "        path = LOCAL_PATH\n",
    "        print(f\"ℹ️ Could not download checkpoint from {CKPT}\")\n",
    "        print(f\"✅ Loaded local path {path}\")"
   ]
  },
  {
   "cell_type": "code",
   "execution_count": null,
   "metadata": {},
   "outputs": [],
   "source": [
    "# Load the checkpoint\n",
    "model = TranslationModule.load_from_checkpoint(path);\n",
    "\n",
    "print(f\"✅ Loaded model from {path} (Device: {model.device})\")"
   ]
  },
  {
   "cell_type": "code",
   "execution_count": null,
   "metadata": {},
   "outputs": [],
   "source": [
    "# Load example image\n",
    "film_paired_dir = os.path.join(\"data\", \"paired\", \"processed\", \"film\")\n",
    "digital_paired_dir = os.path.join(\"data\", \"paired\", \"processed\", \"digital\")\n",
    "digital_film_data = PairedDataset(image_dirs=(film_paired_dir, digital_paired_dir))\n",
    "\n",
    "print(f\"✅ Loaded {len(digital_film_data)} image pairs\")"
   ]
  },
  {
   "cell_type": "code",
   "execution_count": null,
   "metadata": {},
   "outputs": [],
   "source": [
    "# Show example image pair\n",
    "idx = 0\n",
    "film, digital = digital_film_data[idx]\n",
    "\n",
    "# Downsample images (4x)\n",
    "downsample = lambda x, factor: x.resize((x.width // factor, x.height // factor))\n",
    "film, digital = downsample(film, 4), downsample(digital, 4)\n",
    "\n",
    "fig, ax = plt.subplots(1, 2, figsize=(12, 4))\n",
    "fig.suptitle(f\"Digital-Image Pair (Index: {idx})\")\n",
    "ax[0].imshow(pil_to_plot(digital)); ax[1].imshow(pil_to_plot(film));\n",
    "ax[0].set_xlabel(\"Digital\"); ax[1].set_xlabel(\"Film Image\");"
   ]
  },
  {
   "cell_type": "code",
   "execution_count": null,
   "metadata": {},
   "outputs": [],
   "source": [
    "# Run inference\n",
    "film_predicted = model.predict(digital)"
   ]
  },
  {
   "cell_type": "code",
   "execution_count": null,
   "metadata": {},
   "outputs": [],
   "source": [
    "# Plot side-by-side\n",
    "fig, ax = plt.subplots(1, 3, figsize=(18, 4))\n",
    "fig.suptitle(f\"Digital-Image Pair (Index: {idx})\")\n",
    "fig.tight_layout(pad=1.0)\n",
    "ax[0].imshow(pil_to_plot(digital))\n",
    "ax[1].imshow(pil_to_plot(film))\n",
    "ax[2].imshow(pil_to_plot(film_predicted))\n",
    "ax[0].set_xlabel(\"Digital\"); ax[1].set_xlabel(\"Film Image\"); ax[2].set_xlabel(\"Predicted Film Image\");"
   ]
  },
  {
   "cell_type": "code",
   "execution_count": null,
   "metadata": {},
   "outputs": [],
   "source": [
    "# Run inference on all images\n",
    "from tqdm import tqdm\n",
    "\n",
    "for idx, (film, digital) in tqdm(enumerate(digital_film_data), total=len(digital_film_data)):\n",
    "    # Run inference\n",
    "    film, digital = downsample(film, 4), downsample(digital, 4)\n",
    "    film_predicted = model.predict(digital)\n",
    "\n",
    "    # Save images\n",
    "    save_dir = f\"outputs/{RUN_ID}/{idx}\"\n",
    "    os.makedirs(save_dir, exist_ok=True)\n",
    "    digital.save(f\"{save_dir}/digital.png\")\n",
    "    film.save(f\"{save_dir}/film.png\")\n",
    "    film_predicted.save(f\"{save_dir}/film_predicted.png\")"
   ]
  }
 ],
 "metadata": {
  "kernelspec": {
   "display_name": "sillystill",
   "language": "python",
   "name": "python3"
  },
  "language_info": {
   "codemirror_mode": {
    "name": "ipython",
    "version": 3
   },
   "file_extension": ".py",
   "mimetype": "text/x-python",
   "name": "python",
   "nbconvert_exporter": "python",
   "pygments_lexer": "ipython3",
   "version": "3.9.16"
  }
 },
 "nbformat": 4,
 "nbformat_minor": 2
}
