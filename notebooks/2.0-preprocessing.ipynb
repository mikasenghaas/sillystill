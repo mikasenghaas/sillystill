{
 "cells": [
  {
   "cell_type": "markdown",
   "metadata": {},
   "source": [
    "# 📸 Data Preprocessing\n",
    "\n",
    "This notebook details the steps taken to preprocess the data for the project. The raw image pairs are stored in the folder `data/raw` and the cleaned data will be stored in the folder `data/processed`. Each sample is a pair of images that capture the same scence."
   ]
  },
  {
   "cell_type": "markdown",
   "metadata": {},
   "source": [
    "## Setup\n",
    "\n",
    "---\n",
    "\n",
    "Let's install some necessary dependencies and set global variables."
   ]
  },
  {
   "cell_type": "code",
   "execution_count": null,
   "metadata": {},
   "outputs": [],
   "source": [
    "%reload_ext autoreload\n",
    "%autoreload 2"
   ]
  },
  {
   "cell_type": "code",
   "execution_count": null,
   "metadata": {},
   "outputs": [],
   "source": [
    "# Autoroot\n",
    "import autorootcwd"
   ]
  },
  {
   "cell_type": "code",
   "execution_count": null,
   "metadata": {},
   "outputs": [],
   "source": [
    "import cv2 as cv\n",
    "\n",
    "# Imports\n",
    "import numpy as np\n",
    "from matplotlib import pyplot as plt\n",
    "from tqdm import tqdm\n",
    "\n",
    "# Local modules\n",
    "from src.utils.load import load_image_pair, load_metadata\n",
    "from src.utils.preprocess import keypoint_align, luminance_align"
   ]
  },
  {
   "cell_type": "markdown",
   "metadata": {},
   "source": [
    "## Processing Pipeline\n",
    "\n",
    "---\n",
    "\n",
    "We load all images and perform the following processing steps (identical to steps in [processing.py](https://github.com/mikasenghaas/sillystill/blob/main/src/preprocess.py))\n",
    "\n",
    "1) [Keypoint Alignment](https://github.com/mikasenghaas/sillystill/blob/main/notebooks/2.1-keypoint-align.ipynb): Transform and crop digital image to match scene based on keypoint detection and matching\n",
    "2) [Luminance Alignment](https://github.com/mikasenghaas/sillystill/blob/main/notebooks/2.2-luminance-align.ipynb): Adjust luminance levels of digital and film image"
   ]
  },
  {
   "cell_type": "code",
   "execution_count": null,
   "metadata": {},
   "outputs": [],
   "source": [
    "# Load all metadata\n",
    "meta = load_metadata()\n",
    "image_pair_idxs = list(meta.keys())\n",
    "\n",
    "print(f\"✅ Loaded metadata of {len(meta)} image pairs\")"
   ]
  },
  {
   "cell_type": "code",
   "execution_count": null,
   "metadata": {},
   "outputs": [],
   "source": [
    "# Seed OpenCV\n",
    "cv.setRNGSeed(42)"
   ]
  },
  {
   "cell_type": "code",
   "execution_count": null,
   "metadata": {},
   "outputs": [],
   "source": [
    "for idx in image_pair_idxs:\n",
    "    # Load raw image pair\n",
    "    film, digital, _ = load_image_pair(idx, processing_state=\"raw\", as_array=True)\n",
    "\n",
    "    # 1) Keypoint alignment\n",
    "    try:\n",
    "        film, digital = keypoint_align(\n",
    "            query=film,\n",
    "            train=digital,\n",
    "            extract_method=\"sift\",\n",
    "            match_method=\"flann\",\n",
    "        )\n",
    "    except Exception as e:\n",
    "        print(f\"[ERROR] Keypoint alignment failed for image pair {idx}: {e}\")\n",
    "        continue\n",
    "\n",
    "    # 2) Luminance alignment\n",
    "    try:\n",
    "        digital, film = luminance_align(template=digital, source=film)\n",
    "    except Exception as e:\n",
    "        print(f\"[ERROR] Luminance alignment failed for image pair {idx}: {e}\")\n",
    "        continue\n",
    "\n",
    "    # Plot processed images\n",
    "    fig, axs = plt.subplots(ncols=2, figsize=(15, 5))\n",
    "    fig.suptitle(f\"Processed Image Pair {idx}\", fontsize=16)\n",
    "    axs[0].imshow(digital)\n",
    "    axs[1].imshow(film)\n",
    "    axs[0].set_title(\"Digital Image\")\n",
    "    axs[1].set_title(\"Film Image\")\n",
    "    plt.show()"
   ]
  },
  {
   "cell_type": "markdown",
   "metadata": {},
   "source": [
    "Looks good. Let's call the processing script."
   ]
  },
  {
   "cell_type": "code",
   "execution_count": null,
   "metadata": {},
   "outputs": [],
   "source": [
    "!python src/preprocess.py"
   ]
  },
  {
   "cell_type": "markdown",
   "metadata": {},
   "source": [
    "## Inspect Proceessed Images\n",
    "\n",
    "---"
   ]
  },
  {
   "cell_type": "code",
   "execution_count": null,
   "metadata": {},
   "outputs": [],
   "source": [
    "for idx in image_pair_idxs:\n",
    "    # Load raw and processed image pair\n",
    "    film_raw, digital_raw, _ = load_image_pair(idx, processing_state=\"raw\", as_array=True)\n",
    "    film_proc, digital_proc, _ = load_image_pair(idx, processing_state=\"processed\", as_array=True)\n",
    "\n",
    "    # Plot raw and processed images\n",
    "    fig, axs = plt.subplots(nrows=2, ncols=2, figsize=(15, 10))\n",
    "    fig.suptitle(f\"Image Pair {idx}\", fontsize=16)\n",
    "    axs[0, 0].imshow(digital_raw)\n",
    "    axs[0, 1].imshow(digital_proc)\n",
    "    axs[1, 0].imshow(film_raw)\n",
    "    axs[1, 1].imshow(film_proc)\n",
    "    axs[0, 0].set_title(\"Digital Image (Raw)\")\n",
    "    axs[0, 1].set_title(\"Digital Image (Processed)\")\n",
    "    axs[1, 0].set_title(\"Film Image (Raw)\")\n",
    "    axs[1, 1].set_title(\"Film Image (Processed)\")\n",
    "    plt.show()"
   ]
  }
 ],
 "metadata": {
  "kernelspec": {
   "display_name": "sillystill",
   "language": "python",
   "name": "python3"
  },
  "language_info": {
   "codemirror_mode": {
    "name": "ipython",
    "version": 3
   },
   "file_extension": ".py",
   "mimetype": "text/x-python",
   "name": "python",
   "nbconvert_exporter": "python",
   "pygments_lexer": "ipython3",
   "version": "3.9.16"
  }
 },
 "nbformat": 4,
 "nbformat_minor": 2
}
