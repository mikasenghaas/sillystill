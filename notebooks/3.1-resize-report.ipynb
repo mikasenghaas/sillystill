{
 "cells": [
  {
   "cell_type": "markdown",
   "metadata": {},
   "source": [
    "# Resize some images for the report\n",
    "\n",
    "This notebook shows how to use the various data modules defined in this project."
   ]
  },
  {
   "cell_type": "markdown",
   "metadata": {},
   "source": [
    "## Setup\n",
    "\n",
    "---\n",
    "\n",
    "Let's install some necessary dependencies and set global variables."
   ]
  },
  {
   "cell_type": "code",
   "execution_count": null,
   "metadata": {},
   "outputs": [],
   "source": [
    "%reload_ext autoreload\n",
    "%autoreload 2"
   ]
  },
  {
   "cell_type": "code",
   "execution_count": null,
   "metadata": {},
   "outputs": [],
   "source": [
    "import autorootcwd"
   ]
  },
  {
   "cell_type": "code",
   "execution_count": null,
   "metadata": {},
   "outputs": [],
   "source": [
    "from src.utils.load import _load_image_from_path"
   ]
  },
  {
   "cell_type": "code",
   "execution_count": null,
   "metadata": {},
   "outputs": [],
   "source": [
    "indices = [3, 12, 14, 19, 39]\n",
    "height, width = 3000, 2000"
   ]
  },
  {
   "cell_type": "code",
   "execution_count": null,
   "metadata": {},
   "outputs": [],
   "source": [
    "for i, idx in enumerate(indices):\n",
    "    digital = _load_image_from_path(f\"data/paired/raw/digital/{idx:03d}.jpeg\")\n",
    "    film = _load_image_from_path(f\"data/paired/raw/film/{idx:03d}.jpeg\")\n",
    "    digital_resized = digital.resize((height, width))\n",
    "    film_resized = film.resize((height, width))\n",
    "    print(f\"{idx}: {digital.size}, {film.size} -> {digital_resized.size}, {film_resized.size}\")\n",
    "    digital_resized.save(f\"report/figures/digital{i+1}.jpeg\")\n",
    "    film_resized.save(f\"report/figures/film{i+1}.jpeg\")"
   ]
  }
 ],
 "metadata": {
  "kernelspec": {
   "display_name": "sillystill",
   "language": "python",
   "name": "python3"
  },
  "language_info": {
   "codemirror_mode": {
    "name": "ipython",
    "version": 3
   },
   "file_extension": ".py",
   "mimetype": "text/x-python",
   "name": "python",
   "nbconvert_exporter": "python",
   "pygments_lexer": "ipython3",
   "version": "3.9.16"
  }
 },
 "nbformat": 4,
 "nbformat_minor": 2
}
